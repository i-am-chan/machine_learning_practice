{
 "cells": [
  {
   "cell_type": "code",
   "execution_count": 1,
   "metadata": {},
   "outputs": [
    {
     "name": "stdout",
     "output_type": "stream",
     "text": [
      "각 Feature의 컬럼명  ['sepal length (cm)', 'sepal width (cm)', 'petal length (cm)', 'petal width (cm)']\n",
      "Label의 도메인 설명  ['setosa' 'versicolor' 'virginica']\n",
      "예측 정확도: 0.9\n"
     ]
    }
   ],
   "source": [
    "import pandas as pd\n",
    "# Scikit-Learn에서 자체 제공하는 교육 실습용 데이터 세트에서 붓꽃 데이터 세트를 불러온다.\n",
    "from sklearn.datasets import load_iris\n",
    "# Scikit-Learn에서 데이터를 학습용 세트 및 테스트용 세트로 적절하게 분할시켜주는 함수를 불러온다.\n",
    "from sklearn.model_selection import train_test_split\n",
    "\n",
    "# 붓꽃 데이터 세트를 로딩하여 iris 변수에 담는다.\n",
    "iris = load_iris()\n",
    "\n",
    "# 붓꽃 데이터 세트에서 Feature만으로 구성된 NumPy 자료구조로 저장된 데이터를 iris_data 변수에 담는다.\n",
    "iris_data = iris.data\n",
    "'''\n",
    "print('iris 데이터에서 Feature값 [다차원 배열] ', iris_data)\n",
    "'''\n",
    "\n",
    "# 붓꽃 데이터 세트에서 Label만으로 구성된 NumPy 자료구조로 저장된 데이터를 iris_label 변수에 담는다.\n",
    "iris_label = iris.target\n",
    "'''\n",
    "print('iris 데이터에서 Label값 [일차원 배열] ', iris_label)\n",
    "'''\n",
    "\n",
    "print('각 Feature의 컬럼명 ', iris.feature_names)\n",
    "print('Label의 도메인 설명 ', iris.target_names)\n",
    "\n",
    "# 붓꽃 데이터를 Pandas의 DataFrame 자료구조로 변환한다.  \n",
    "# 이때 iris의 feature_names 속성을 이용하여 각 열의 이름을 지정해준다.\n",
    "'''\n",
    "iris_df = pd.DataFrame(data=iris.data, columns=iris.feature_names)\n",
    "iris_df['target'] = iris_label\n",
    "iris_df.head()\n",
    "'''\n",
    "\n",
    "X_train, X_test, y_train, y_test = \\\n",
    "    train_test_split(iris_data, iris.target, test_size=0.2)\n",
    "\n",
    "from sklearn.tree import DecisionTreeClassifier\n",
    "\n",
    "# DecisionTreeClassifier 인스턴스 생성하여 이를 model이 가리키게 한다.\n",
    "model = DecisionTreeClassifier()\n",
    "\n",
    "# 위 모델 인스턴스에게 학습용 데이터를 전달하여 학습시킨다.\n",
    "model.fit(X_train, y_train)\n",
    "\n",
    "# 학습이 완료된 위 모델 인스턴스에서 테스트용 데이터를 전달하여 예측 수행시킨다.\n",
    "pred = model.predict(X_test)\n",
    "'''\n",
    "print('pred: ', pred)\n",
    "'''\n",
    "\n",
    "# Scikit-Learn에서 예측 정확도를 계산하는 함수를 불러온다.\n",
    "from sklearn.metrics import accuracy_score\n",
    "print('예측 정확도: {}'.format(accuracy_score(y_test, pred)))\n"
   ]
  },
  {
   "cell_type": "code",
   "execution_count": null,
   "metadata": {},
   "outputs": [],
   "source": []
  }
 ],
 "metadata": {
  "kernelspec": {
   "display_name": "Python 3",
   "language": "python",
   "name": "python3"
  },
  "language_info": {
   "codemirror_mode": {
    "name": "ipython",
    "version": 3
   },
   "file_extension": ".py",
   "mimetype": "text/x-python",
   "name": "python",
   "nbconvert_exporter": "python",
   "pygments_lexer": "ipython3",
   "version": "3.7.3"
  }
 },
 "nbformat": 4,
 "nbformat_minor": 2
}
